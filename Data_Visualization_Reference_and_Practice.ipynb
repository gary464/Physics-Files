{
  "cells": [
    {
      "cell_type": "markdown",
      "metadata": {
        "id": "view-in-github",
        "colab_type": "text"
      },
      "source": [
        "<a href=\"https://colab.research.google.com/github/gary464/Physics-Files/blob/main/Data_Visualization_Reference_and_Practice.ipynb\" target=\"_parent\"><img src=\"https://colab.research.google.com/assets/colab-badge.svg\" alt=\"Open In Colab\"/></a>"
      ]
    },
    {
      "cell_type": "markdown",
      "source": [
        "# **INTRO TO PYTHON PLOTTING USING matplotlib.pyplot**\n",
        "\n",
        "This notebook provides and introduction to simple plotting using python code.\n",
        "\n",
        "It is designed as a step by step process to easily teach/learn the basics of plotting and to provide a quick reference for future utilization."
      ],
      "metadata": {
        "id": "3sNw5XwvyZhh"
      },
      "id": "3sNw5XwvyZhh"
    },
    {
      "cell_type": "markdown",
      "id": "d45d0f22",
      "metadata": {
        "id": "d45d0f22"
      },
      "source": [
        "# **Import some Libraries**\n",
        "We will first import some libraries to bring in some freely available functions.\n",
        "\n",
        "In the process we create short names for the libraries for simplicity of  code.\n",
        "\n",
        "For example, we use the code\n",
        "\n",
        "***import matplotlib.pyplot as plt***\n",
        "\n",
        "to import the library matplotlib.pyplot and set its name to plt so when we need to reference the library, we only need to type ***plt***\n"
      ]
    },
    {
      "cell_type": "code",
      "execution_count": null,
      "id": "08b00437",
      "metadata": {
        "id": "08b00437"
      },
      "outputs": [],
      "source": [
        "# Import libraries - note you are creating short cuts for these libraries to simplify your coding by using the as keyword\n",
        "import numpy as np\n",
        "import matplotlib as mpl\n",
        "import matplotlib.pyplot as plt"
      ]
    },
    {
      "cell_type": "markdown",
      "source": [
        "# **Create an Array**\n",
        "\n",
        "The following function allows the user to create an array of n(um) equally spaced numbers between a starting and ending point.\n",
        "\n",
        "Here is the user's info for np.linspace\n",
        "https://numpy.org/doc/1.19/reference/generated/numpy.linspace.html\n"
      ],
      "metadata": {
        "id": "dFu-LuVLpcYw"
      },
      "id": "dFu-LuVLpcYw"
    },
    {
      "cell_type": "code",
      "execution_count": null,
      "id": "924faf71",
      "metadata": {
        "id": "924faf71"
      },
      "outputs": [],
      "source": [
        "np.linspace(0, 10, num=5, endpoint=True)"
      ]
    },
    {
      "cell_type": "markdown",
      "source": [
        "# **Define a Function**\n",
        "We use the def keyword to define a function in Python.  on the def line, the user provides a name for the function and the variables which will be passed in to the function. The function is then defined and output is specified in the return line.  Make sure you pay attention to the formatting (indentation) in the code.\n",
        "\n",
        "Below is a quick reference:\n",
        "\n",
        "https://www.geeksforgeeks.org/python-def-keyword/"
      ],
      "metadata": {
        "id": "tJOdudsnxWsA"
      },
      "id": "tJOdudsnxWsA"
    },
    {
      "cell_type": "code",
      "execution_count": null,
      "id": "bf9ccb01",
      "metadata": {
        "id": "bf9ccb01"
      },
      "outputs": [],
      "source": [
        "def model_function(x):                # gives function name of model_function and takes a single input x\n",
        "    a = 2\n",
        "    b = -7\n",
        "    y = a * (x**2) + b                # defines y as a function of x\n",
        "    return y                          # outputs y"
      ]
    },
    {
      "cell_type": "markdown",
      "source": [],
      "metadata": {
        "id": "sGmVsLRCO6YW"
      },
      "id": "sGmVsLRCO6YW"
    },
    {
      "cell_type": "markdown",
      "source": [
        "# **Plotting Data -scatterplot**\n",
        "The remaining portion of this notebook will deal with learning how to plot your data.\n",
        "This first section will simply create 2 arrays of data and then plot them.  The scatter plot will show the function defined above graphically.\n",
        "\n",
        "We will be using the Mathplotlib library to gain graphing functionality.  Remember in the first section we create a short cut name for this as plt.\n",
        "\n",
        "Here are some cheat sheats showing Mathplotlib functionality\n",
        "\n",
        "(https://matplotlib.org/cheatsheets/)\n",
        "\n",
        "We will first utilize plt.scatter(x, y)"
      ],
      "metadata": {
        "id": "iXdRhDSuQKYb"
      },
      "id": "iXdRhDSuQKYb"
    },
    {
      "cell_type": "code",
      "source": [
        "xvals = np.linspace(0, 5, num=10)     # creates an array named xvals using np.linspace\n",
        "yvals = model_function(xvals)         # creates an arrat named yvals which is a function of xvals using model_funtion\n",
        "plt.scatter(xvals, yvals)             # creates a scatter plot of yvals vs xvals - only plots data points"
      ],
      "metadata": {
        "id": "s0dbNMO2QEu4"
      },
      "id": "s0dbNMO2QEu4",
      "execution_count": null,
      "outputs": []
    },
    {
      "cell_type": "markdown",
      "source": [
        "# **Plotting - connect the dots**\n",
        "Next, we will use the plot command which plots the data while connecting the data points - unlike the scatterplot.\n",
        "\n",
        "We also will change around some of the graph parameters as follows:\n",
        "\n",
        "color of the graph:        **use color = 'color'**\n",
        "\n",
        "data marker:               **use market = 'marker from table'**   the tble can be found at https://matplotlib.org/stable/api/markers_api.html\n",
        "\n",
        "transparency (shade): **use alpha = #** where # is any number between 0 and 1 inclusive.\n",
        "\n",
        "Note there are many more features which can be added to the plot command.  These can be reaseached through the cheatsheets or the matplotlib.pyplot users manual online.\n"
      ],
      "metadata": {
        "id": "wpWN5x-rWXjp"
      },
      "id": "wpWN5x-rWXjp"
    },
    {
      "cell_type": "code",
      "execution_count": null,
      "id": "1a5fad42",
      "metadata": {
        "id": "1a5fad42"
      },
      "outputs": [],
      "source": [
        "plt.plot(xvals, yvals, color='green', marker='x', alpha=.2)"
      ]
    },
    {
      "cell_type": "markdown",
      "source": [
        "# **ADVANCED PLOTTING FEATURES**\n"
      ],
      "metadata": {
        "id": "KL9MVD2IrHPS"
      },
      "id": "KL9MVD2IrHPS"
    },
    {
      "cell_type": "markdown",
      "source": [
        "**Having more than one plot on the page**\n",
        "\n",
        "MatPlotLib gives the option to have multiple plots on a page.  There are different configurations which you may investigate.  \n",
        "A useful link for some examplet is  from the matplotlib.pyplot users guide and attached here:\n",
        "\n",
        "https://matplotlib.org/stable/api/_as_gen/matplotlib.pyplot.subplots.html\n",
        "\n",
        "The following code will produce a group of plots which is 2,2\n",
        "The figsize=() defines the size of the individual plots.\n",
        "\n",
        "Try playing around with the number of graphs and figsize features to see how it impacts your view\n",
        "\n",
        "In the code by using ax = plt.subplots() we define the for subplot group as 'ax'"
      ],
      "metadata": {
        "id": "YL1Fnfg-uYnW"
      },
      "id": "YL1Fnfg-uYnW"
    },
    {
      "cell_type": "code",
      "source": [
        "fig, ax = plt.subplots(2, 2, figsize=(10,5))   # creates a 2x2 set of plots\n",
        "fig.subplots_adjust(hspace=.5)                 # sets the space between rows of plots\n",
        "\n",
        "plt.show()"
      ],
      "metadata": {
        "id": "mSwjVQPrtjyL"
      },
      "id": "mSwjVQPrtjyL",
      "execution_count": null,
      "outputs": []
    },
    {
      "cell_type": "markdown",
      "source": [
        "**The Next Section will adjust each of the four graphs individually showing some additional features**\n",
        "\n",
        "Remember that the subplots are defined as a group called ax.  we can select which plot we are working on by referecing the row and column for the particular plot.  It is important to remember that in programming the first row/column is always indexed as zero(0). We reference the individula plots as ax[row,column], so the upper right plot is ax[0,0] and the lower left is ax[1,1].\n"
      ],
      "metadata": {
        "id": "1If34pJYuV-D"
      },
      "id": "1If34pJYuV-D"
    },
    {
      "cell_type": "markdown",
      "source": [
        "**Upper Left - ax[0,0]**\n",
        "\n",
        "This plot contains 2 lines (the second is a function of the first).  Note line 5 of the code simply replaces the y values from the lince from code line 4 with a function of the x value (essentially y = 2x+4).\n",
        "\n",
        "Within the plot code, we are setting color using \"color = \" providing a label which we will put into a legend and selecting linestyle and markers for each line.\n",
        "\n"
      ],
      "metadata": {
        "id": "24C3SKGowxsg"
      },
      "id": "24C3SKGowxsg"
    },
    {
      "cell_type": "code",
      "source": [
        "fig, ax = plt.subplots(2, 2, figsize=(10,5))\n",
        "fig.subplots_adjust(hspace=0.5)\n",
        "\n",
        "ax[0,0].plot(xvals, yvals, color= 'b', label='one', linestyle=\"--\", marker = \"o\")\n",
        "ax[0,0].plot(xvals, xvals*2+4, color= 'skyblue', label='two', linestyle=\"-.\", marker = \"^\")\n",
        "ax[0,0].legend()\n",
        "\n",
        "plt.show()"
      ],
      "metadata": {
        "id": "MScqQnFWt6xz"
      },
      "id": "MScqQnFWt6xz",
      "execution_count": null,
      "outputs": []
    },
    {
      "cell_type": "markdown",
      "source": [
        "**Upper Left - ax[0,1]**\n",
        "\n",
        "In this plot, we add a title and axis labels as well as adjust the range of the x axis, remove the ticks from the x axis, and add grid lines for the y-values.\n",
        "\n",
        "Code Line 4 shows a squick way to add a title and axis labels using the set command.\n",
        "\n",
        "Code Line 5 demonstrates the set_xlim() command to set the range for the x-axis (try adding a similar command for th y-axis).\n",
        "\n",
        "Code Line 6 removes the tick marks for the x axis while line 7 changes the color for the tick marks.\n",
        "\n",
        "Finally line 8 uses the grid command to add grid lines (in this case specific to the y axis).  within this command, linewidth sets how wide the grid line is and alph (which can range between 0 and 1) sets the transparency (darkness) of the line.\n",
        "\n",
        "Try removing the \"axis = 'y\" in the code and see what happens to the plot."
      ],
      "metadata": {
        "id": "My7MJfBgqJ2r"
      },
      "id": "My7MJfBgqJ2r"
    },
    {
      "cell_type": "code",
      "source": [
        "fig, ax = plt.subplots(2, 2, figsize=(10,5))\n",
        "fig.subplots_adjust(hspace=0.5)\n",
        "\n",
        "ax[0,1].set(xlabel=\"x label\", ylabel=\"y label\", title=\"title\")\n",
        "ax[0,1].set_xlim(2,5)\n",
        "ax[0,1].xaxis.set_ticks_position('none')\n",
        "ax[0,1].tick_params(labelcolor='grey')\n",
        "ax[0,1].grid(color='r', axis='y', linestyle='-', linewidth=.5, alpha=0.5)\n",
        "\n",
        "plt.show()"
      ],
      "metadata": {
        "id": "HtUXE9UmqKxa"
      },
      "id": "HtUXE9UmqKxa",
      "execution_count": null,
      "outputs": []
    },
    {
      "cell_type": "markdown",
      "source": [
        "**Lower Left - ax[1,0]**\n",
        "\n",
        "This plot adds both a horizontal and verticle line to the plot.  It also adds some text whitin the plot\n",
        "\n",
        "To add a horizontal or verticle line use the .axhline() or .axvline() command.  The number immediately after the open parens defines the location on the azis where you want the line to show up.  The shown cammond also allows you to alter the color and line width.\n",
        "\n",
        "In order to add text to the plot, use the test() command. The basic format will be:\n",
        "\n",
        "text(x location, y location, \"text to display\")."
      ],
      "metadata": {
        "id": "y3MvqfxcwPZW"
      },
      "id": "y3MvqfxcwPZW"
    },
    {
      "cell_type": "code",
      "source": [
        "fig, ax = plt.subplots(2, 2, figsize=(10,5))\n",
        "fig.subplots_adjust(hspace=0.5)\n",
        "\n",
        "ax[1,0].axhline(.5, color='purple', linewidth=0.5)\n",
        "ax[1,0].axvline(.4, color='g', linewidth=5)\n",
        "ax[1,0].text(.5, .2, \"text!\")\n",
        "\n",
        "plt.show()"
      ],
      "metadata": {
        "id": "Ia5n7WQZwRG3"
      },
      "id": "Ia5n7WQZwRG3",
      "execution_count": null,
      "outputs": []
    },
    {
      "cell_type": "markdown",
      "source": [
        "**Lower Right - ax[1,0]**\n",
        "\n",
        "Finally, let's play with the borders (spines) of the plot and add text with an arrow.\n",
        "\n",
        "To remove one of the edgeborders of the graph, we set the visibility of the particular \"spine\" to false as seen in lines 4 and 5 in the code below\n",
        "\n",
        "Code line 6 demonstrates how to change the color of a spine.\n",
        "\n",
        "Finally, line 8 demos how to add text with an arrow into your plot. xytext(x start,ystart) asks for the (x,y) location on the graph where you would like the text to start.  The arrow will start at the center of the text and travel to the location specified using xy().  If you want an arrow with no text, you can use the command but simply set the text to \"\".  The arrow will now start at the position specified at xytext()"
      ],
      "metadata": {
        "id": "I037fuCU1_jI"
      },
      "id": "I037fuCU1_jI"
    },
    {
      "cell_type": "code",
      "source": [
        "fig, ax = plt.subplots(2, 2, figsize=(10,5))\n",
        "fig.subplots_adjust(hspace=0.5)\n",
        "\n",
        "ax[1,1].spines['top'].set_visible(False)\n",
        "ax[1,1].spines['right'].set_visible(False)\n",
        "ax[1,1].spines[\"bottom\"].set_color(\"green\")\n",
        "\n",
        "ax[1,1].annotate(\"There is Nothing Here\", xy=(.8, .2), xytext=(.2, .8), arrowprops=dict(facecolor='black', arrowstyle=\"->\"))\n",
        "\n",
        "plt.show()"
      ],
      "metadata": {
        "id": "6m8OEN1jp3Hd"
      },
      "id": "6m8OEN1jp3Hd",
      "execution_count": null,
      "outputs": []
    },
    {
      "cell_type": "markdown",
      "source": [
        "# **Now let's put it all together!!**"
      ],
      "metadata": {
        "id": "Tqf03NOBp2N5"
      },
      "id": "Tqf03NOBp2N5"
    },
    {
      "cell_type": "code",
      "execution_count": null,
      "id": "d52f7485",
      "metadata": {
        "id": "d52f7485"
      },
      "outputs": [],
      "source": [
        "fig, ax = plt.subplots(2, 2, figsize=(10,5))\n",
        "fig.subplots_adjust(hspace=0.5)\n",
        "\n",
        "ax[0,0].plot(xvals, yvals, color= 'b', label='one', linestyle=\"--\", marker = \"o\")\n",
        "ax[0,0].plot(xvals, xvals*2+4, color= 'skyblue', label='two', linestyle=\"-.\", marker = \"^\")\n",
        "ax[0,0].legend()\n",
        "\n",
        "ax[0,1].set(xlabel=\"x label\", ylabel=\"y label\", title=\"title\")\n",
        "ax[0,1].set_xlim(2,5)\n",
        "ax[0,1].xaxis.set_ticks_position('none')\n",
        "ax[0,1].tick_params(labelcolor='grey')\n",
        "ax[0,1].grid(color='r', axis='y', linestyle='-', linewidth=.5, alpha=0.5)\n",
        "\n",
        "ax[1,0].axhline(.5, color='purple', linewidth=0.5)\n",
        "ax[1,0].axvline(.4, color='g', linewidth=5)\n",
        "ax[1,0].text(.5, .2, \"text!\")\n",
        "\n",
        "ax[1,1].spines['top'].set_visible(False)\n",
        "ax[1,1].spines['right'].set_visible(False)\n",
        "ax[1,1].spines[\"bottom\"].set_color(\"green\")\n",
        "\n",
        "ax[1,1].annotate(\"There is Nothing Here\", xy=(.8, .2), xytext=(.2, .8), arrowprops=dict(facecolor='black', arrowstyle=\"->\"))\n",
        "\n",
        "\n",
        "plt.show()"
      ]
    },
    {
      "cell_type": "markdown",
      "source": [
        "# **SUMMARY**\n",
        "\n",
        "Clearly this is not an exhaustive session on plotting.  There are many other versions of plots as well as many features which have not been covered.  The best way to find additional features is search throught the web starting with a search like:\n",
        "\n",
        "matplotlib (fill in the blank)  say maybe:\n",
        "\n",
        "matplotlib plot line colors where you can get: https://matplotlib.org/stable/tutorials/colors/colors.html\n",
        "\n",
        "Again, you can use the matplotlib cheatsheets: https://matplotlib.org/cheatsheets/\n",
        "\n",
        "There are a ton of options to play with to make great plots which present your data well."
      ],
      "metadata": {
        "id": "othQYqsaKU76"
      },
      "id": "othQYqsaKU76"
    }
  ],
  "metadata": {
    "kernelspec": {
      "display_name": "Python 3 (ipykernel)",
      "language": "python",
      "name": "python3"
    },
    "language_info": {
      "codemirror_mode": {
        "name": "ipython",
        "version": 3
      },
      "file_extension": ".py",
      "mimetype": "text/x-python",
      "name": "python",
      "nbconvert_exporter": "python",
      "pygments_lexer": "ipython3",
      "version": "3.9.7"
    },
    "colab": {
      "provenance": [],
      "include_colab_link": true
    }
  },
  "nbformat": 4,
  "nbformat_minor": 5
}