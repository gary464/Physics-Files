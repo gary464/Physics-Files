{
  "nbformat": 4,
  "nbformat_minor": 0,
  "metadata": {
    "colab": {
      "provenance": [],
      "authorship_tag": "ABX9TyO65IkmVNFc+Al4S3TZ5j0P",
      "include_colab_link": true
    },
    "kernelspec": {
      "name": "python3",
      "display_name": "Python 3"
    },
    "language_info": {
      "name": "python"
    }
  },
  "cells": [
    {
      "cell_type": "markdown",
      "metadata": {
        "id": "view-in-github",
        "colab_type": "text"
      },
      "source": [
        "<a href=\"https://colab.research.google.com/github/gary464/Physics-Files/blob/main/Basic_Kinematics_1.ipynb\" target=\"_parent\"><img src=\"https://colab.research.google.com/assets/colab-badge.svg\" alt=\"Open In Colab\"/></a>"
      ]
    },
    {
      "cell_type": "markdown",
      "source": [
        "# **This COLAB Notebook is an introduction to Python Programming to represent basic Kinematics**"
      ],
      "metadata": {
        "id": "iA77ZFcKXZr0"
      }
    },
    {
      "cell_type": "markdown",
      "source": [
        "**Let's Import some needed libraries**"
      ],
      "metadata": {
        "id": "BHCiKVvs5uQl"
      }
    },
    {
      "cell_type": "code",
      "execution_count": null,
      "metadata": {
        "id": "qF0u_fDb5jOr"
      },
      "outputs": [],
      "source": [
        "import numpy as np\n",
        "import math\n",
        "import matplotlib.pyplot as plt\n",
        "import matplotlib.animation as animation"
      ]
    },
    {
      "cell_type": "markdown",
      "source": [
        "**Now we will add a simple ball moving across a 2-D surface at constant velocity.**\n",
        "\n",
        "First, we will create and initialize variables for the x location, the x  velocity and time."
      ],
      "metadata": {
        "id": "kgIDYzue526W"
      }
    },
    {
      "cell_type": "code",
      "source": [
        "x = 0\n",
        "vx = 2\n",
        "t = 0"
      ],
      "metadata": {
        "id": "kvPEvS6zJlNY"
      },
      "execution_count": null,
      "outputs": []
    },
    {
      "cell_type": "markdown",
      "source": [
        "**Now we will use a WHILE LOOP Structure to generate our x and y location data as time progresses.**\n",
        "\n",
        "We will first create new varibales which will be arrays (a set of data points).  We will use the following format for these variables: saved_x to represent our saved array of x locations.\n",
        "\n",
        "The while loop will take the initial value of t (set to 0) and run the included functions to determine the location of x and y for that t value.  It will then \"append\" the x and y locations at that t to the new saved array.  At the end, time t will de increased by the set interval (in this case 1) by the equation t = t+1.\n",
        "\n",
        "**NOTE:** all of the code inside the while loop is indented at the same level.  When you are completed with the loop, you start coding back at the un-indented level, this signifies the loop is complete.\n",
        "\n",
        "The While loop includes the standard form of the function for the location of an object travelling at constant velocity: Position = initial position + (velocity * change in time)\n",
        "\n",
        "x = x0 + vx * t\n",
        "\n",
        "The print(saved_x) command just prints the new array so you may inspect it.\n",
        "\n",
        "Try running the code again, but first comment out the t = 1 before the while loop and observe the change in output for saved_x."
      ],
      "metadata": {
        "id": "dJAo6RuGJsHu"
      }
    },
    {
      "cell_type": "code",
      "source": [
        "# Create the arrays to store the x location and time from our functions\n",
        "saved_x = []\n",
        "saved_t = []\n",
        "\n",
        "# This while will run over and over until t is greater than 10 (from 0 - 10: 11 steps).\n",
        "while t <= 10:\n",
        "  saved_x.append(x + vx*t)\n",
        "  saved_t.append(t)\n",
        "\n",
        "  t = t + 1\n",
        "print(saved_x)\n",
        "print(saved_t)"
      ],
      "metadata": {
        "id": "EoNXfkQRMDVg"
      },
      "execution_count": null,
      "outputs": []
    },
    {
      "cell_type": "markdown",
      "source": [
        "**It is now time to plot the data to visualize the results**\n",
        "\n",
        "First, let's plot just a representation of x vs. time.  We will plot our data using a scatter plot.  The coding for the scatter plot comes from the library matplot.lib.pyplot which we loaded in our initial steps.\n",
        "\n",
        "Notice How easy it is to add titles and axis labels to plots in Python.\n",
        "\n",
        "The command plt.xlim allows you to choose the range over which you want your data plotted.  Be careful to note that xlim and ylim refer to the x and y axes on the graph, **NOT** your x, y,or t data points"
      ],
      "metadata": {
        "id": "nL7ZE-r2UKn_"
      }
    },
    {
      "cell_type": "code",
      "source": [
        "scatter_plot = plt.scatter(saved_t, saved_x)\n",
        "plt.xlim(0,10)  # Set the range of the x axis\n",
        "plt.ylim(0,20)  # Set the range of the y axis\n",
        "plt.title('X vs. Time')\n",
        "plt.xlabel('Time')\n",
        "plt.ylabel('X')\n",
        "plt.show()"
      ],
      "metadata": {
        "id": "gWgRejUaQ3s_"
      },
      "execution_count": null,
      "outputs": []
    },
    {
      "cell_type": "markdown",
      "source": [
        "How can we calculate the slope of our x vs t function (and what should it be equal to).\n",
        "\n",
        "In this section we will learn about indexing an array of data.\n",
        "\n",
        "The slope of the function is simply the change along the verticle axis divided by the change in the horizontal axis\n",
        "\n",
        "generally: (xfinal-xinitial)/(yfinal-yinitial)\n",
        "\n",
        "For the final and initial selection, we will just take 2 different points in each array (making sure they are in the same location in each array). We do this by INDEXING withinthe array.\n",
        "\n",
        "In order to index we utilize the array we are interested and select which data point in the array we want by using brackets[]. Below you can see how we select the 3rd data point in the array. IT IS KEY TO NOTE THAT THE FIRST DATA POINT IS INDEXED BY THE NUMBER ZERO SO THE THIRD DATA POINT WILL BE INDEXED BY THE NUMBER 2:\n",
        "\n",
        "saved_x[2] returns the third value in the saved_x array."
      ],
      "metadata": {
        "id": "svAAAQz8NlVX"
      }
    },
    {
      "cell_type": "markdown",
      "source": [],
      "metadata": {
        "id": "N2iwLKA8NbxZ"
      }
    },
    {
      "cell_type": "code",
      "source": [
        "#  Let's Calculate the slope of the line using the 4th and 7th data point of the 2 arrays\n",
        "#  Note our index numbers to use are 6 and 3 instead of 7 and 4\n",
        "slope = (saved_x[6] - saved_x[3])/(saved_t[6] - saved_t[3])\n",
        "print('slope = ',slope)  # The use of ' ' allows us to add fixed text (here 'slope = ' to the print command)"
      ],
      "metadata": {
        "id": "L5VZ361JNco_"
      },
      "execution_count": null,
      "outputs": []
    },
    {
      "cell_type": "markdown",
      "source": [
        "**Now let's have some fun and animate our graphs using matplotlib FuncAnimation**\n",
        "\n",
        "We are going to utilize an animation protocal called FuncAnimation which is in the matplot lib library.\n",
        "\n",
        "In this process we will create a function which will be called repeatedly to update the data in our chart.  Here we will be calling the base scatterplot and basically run the chart through a loop where the data is updated each time we pass through the loop again.  The updated charts are saved and can be played back like a film reel giving us a video view of the progression of the data through the loop.  The data are eventually saved as a .gif file which can be opened and viewed.\n",
        "\n",
        "First we will create a space where the program will be plotting the fnction.  We will define this space af \"fig\" and we are going to use matplotlib.subplots command (note: the empty() says there is only one plot space).\n",
        "\n",
        "Next, we will def the function which the animation will run.  Convention generally sets the function name to \"update\".  We will pass the variable needed to perform the update function in through the definition.\n",
        "\n",
        "def update(frames, saved_x, saved_t):  Here we need the saved_x and saved_t variables and frames (a variable which will allow us to step through the saved_x and saved_t arrays)\n",
        "\n",
        "We will set up the plot within the function just like we did above.  As a change within the fuction, there is a command axis.clear() which eliminates data from the previous pass of the update function.  If you comment this out, you will see that all prior data points will shoe up in your animation instead of just 1 moving data point.\n",
        "\n",
        "After defining the plot parameters, we generate the plot (in this case a scatter plot) and return it.  It is important to notice here that we are referencing data in the saved arrays by using the frames index saved_x[frames].  We will define frames in the animation command next.\n",
        "\n",
        "We define the animation (ani = ) using the fullowing command\n",
        "\n",
        "ani = animation.FuncAnimation(fig, update, frames = (len(saved_x) - 1), fargs=[saved_x, saved_t])\n",
        "\n",
        "We need to pass the following into the command\n",
        "\n",
        "figure           - in this case fig\n",
        "\n",
        "function         - in this case update\n",
        "\n",
        "frames           - the index variable in this case range(1 - len(save_x)-1)\n",
        "\n",
        "fargs            - function arguments needed to run the function (saved_x, saved_)\n",
        "\n",
        "Here are a few links to the provide some additional background on FuncAnimation:\n",
        "https://medium.com/@qiaofengmarco/animate-your-data-visualization-with-matplotlib-animation-3e3c69679c90\n",
        "\n",
        "\n",
        "https://matplotlib.org/3.1.1/api/_as_gen/matplotlib.animation.FuncAnimation.html"
      ],
      "metadata": {
        "id": "asVUoPZnFgXK"
      }
    },
    {
      "cell_type": "code",
      "source": [
        "fig, axis = plt.subplots()\n",
        "\n",
        "def update(frames, saved_x, saved_t):\n",
        "  axis.clear()\n",
        "  axis.set_xlim(0,10)\n",
        "  axis.set_ylim(0,20)\n",
        "  axis.set_title('X vs. Time')\n",
        "  axis.set_xlabel('Time')\n",
        "  axis.set_ylabel('X')\n",
        "\n",
        "  animated_ball = plt.scatter(saved_t[frames], saved_x[frames])\n",
        "  return [animated_ball]\n",
        "\n",
        "ani = animation.FuncAnimation(fig, update, frames = len(saved_x),\n",
        "                              fargs=[saved_x, saved_t])\n",
        "ani.save('animation_const v ball x v t.gif', writer='pillow', fps=60)"
      ],
      "metadata": {
        "id": "V8iEQh1fI8IF"
      },
      "execution_count": null,
      "outputs": []
    },
    {
      "cell_type": "markdown",
      "source": [
        "The following animates the ball along the x-axis showing the 1D motion of the ball."
      ],
      "metadata": {
        "id": "1RXFhFk9DsaA"
      }
    },
    {
      "cell_type": "code",
      "source": [
        "fig, axis = plt.subplots()\n",
        "\n",
        "def update(frames, saved_x,):\n",
        "  axis.clear()\n",
        "  axis.set_xlim(0,20)\n",
        "  axis.set_ylim(-1,1)\n",
        "  axis.set_title('Location')\n",
        "  axis.set_xlabel('X')\n",
        "\n",
        "\n",
        "  animated_ball = plt.scatter(saved_x[frames], [0])\n",
        "  return [animated_ball]\n",
        "\n",
        "ani = animation.FuncAnimation(fig, update, frames = len(saved_x), fargs=[saved_x])\n",
        "ani.save('animation_const v ball x.gif', writer='pillow', fps=60)"
      ],
      "metadata": {
        "id": "xv1Y9TLZMZcY"
      },
      "execution_count": null,
      "outputs": []
    }
  ]
}