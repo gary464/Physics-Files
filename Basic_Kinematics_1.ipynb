{
  "nbformat": 4,
  "nbformat_minor": 0,
  "metadata": {
    "colab": {
      "provenance": [],
      "authorship_tag": "ABX9TyPDEO1rs7Bqcv6snC9MQ2cJ",
      "include_colab_link": true
    },
    "kernelspec": {
      "name": "python3",
      "display_name": "Python 3"
    },
    "language_info": {
      "name": "python"
    }
  },
  "cells": [
    {
      "cell_type": "markdown",
      "metadata": {
        "id": "view-in-github",
        "colab_type": "text"
      },
      "source": [
        "<a href=\"https://colab.research.google.com/github/gary464/Physics-Files/blob/main/Basic_Kinematics_1.ipynb\" target=\"_parent\"><img src=\"https://colab.research.google.com/assets/colab-badge.svg\" alt=\"Open In Colab\"/></a>"
      ]
    },
    {
      "cell_type": "markdown",
      "source": [
        "# **This COLAB Notebook is an introduction to Python Programming to represent basic Kinematics**"
      ],
      "metadata": {
        "id": "iA77ZFcKXZr0"
      }
    },
    {
      "cell_type": "markdown",
      "source": [
        "**Let's Import some needed libraries**"
      ],
      "metadata": {
        "id": "BHCiKVvs5uQl"
      }
    },
    {
      "cell_type": "code",
      "execution_count": null,
      "metadata": {
        "id": "qF0u_fDb5jOr"
      },
      "outputs": [],
      "source": [
        "import numpy as np\n",
        "import math\n",
        "import matplotlib.pyplot as plt\n",
        "import matplotlib.animation as animation"
      ]
    },
    {
      "cell_type": "markdown",
      "source": [
        "**Now we will add a simple ball moving across a 2-D surface at constant velocity.**\n",
        "\n",
        "First, we will create and initialize variables for the x and y locations, the x and y velocities and time."
      ],
      "metadata": {
        "id": "kgIDYzue526W"
      }
    },
    {
      "cell_type": "code",
      "source": [
        "x = 0\n",
        "y = 0\n",
        "vx = 2\n",
        "vy = 1.1\n",
        "t = 0"
      ],
      "metadata": {
        "id": "kvPEvS6zJlNY"
      },
      "execution_count": null,
      "outputs": []
    },
    {
      "cell_type": "markdown",
      "source": [
        "**Now we will use a WHILE LOOP Structure to generate our x and y location data as time progresses.**\n",
        "\n",
        "We will first create new varibales which will be arrays (a set of data points).  We will use the following format for these variables: saved_x to represent our saved array of x locations.\n",
        "\n",
        "The while loop will take the initial value of t (set to 0) and run the included functions to determine the location of x and y for that t value.  It will then \"append\" the x and y locations at that t to the new saved array.  At the end, time t will de increased by the set interval (in this case 1) by the equation t = t+1.\n",
        "\n",
        "**NOTE:** all of the code inside the while loop is indented at the same level.  When you are completed with the loop, you start coding back at the un-indented level, this signifies the loop is complete.\n",
        "\n",
        "The While loop includes the standard form of the function for the location of an object travelling at constant velocity: Position = initial position + (velocity * change in time)\n",
        "\n",
        "x = x0 + vx * t\n",
        "\n",
        "The print(saved_x) command just prints the new array so you may inspect it.\n",
        "\n",
        "Try running the code again, but first comment out the t = 1 before the while loop and observe the change in output for saved_x."
      ],
      "metadata": {
        "id": "dJAo6RuGJsHu"
      }
    },
    {
      "cell_type": "code",
      "source": [
        "# Create the arrays to store the x and y locations from our functions\n",
        "saved_x = [x]\n",
        "saved_y = [y]\n",
        "saved_t = [t]\n",
        "\n",
        "t = 1  # Here we reset t = 1, the arrays saved_x etc already have the data point when t = 0\n",
        "\n",
        "# This while will run over and over until t is greater than 10 (from 0 - 10: 11 steps).\n",
        "while t <= 10:\n",
        "  saved_x.append(x + vx*t)\n",
        "  saved_y.append(y + vy*t)\n",
        "  saved_t.append(t)\n",
        "\n",
        "  t = t + 1\n",
        "print(saved_x)\n",
        "print(saved_y)\n",
        "print(saved_t)"
      ],
      "metadata": {
        "id": "EoNXfkQRMDVg"
      },
      "execution_count": null,
      "outputs": []
    },
    {
      "cell_type": "markdown",
      "source": [
        "**It is now time to plot the data to visualize the results**\n",
        "\n",
        "First, let's plot just a representation of x vs. time.  We will plot our data using a scatter plot.  The coding for the scatter plot comes from the library matplot.lib.pyplot which we loaded in our initial steps.\n",
        "\n",
        "Notice How easy it is to add titles and axis labels to plots in Python."
      ],
      "metadata": {
        "id": "nL7ZE-r2UKn_"
      }
    },
    {
      "cell_type": "code",
      "source": [
        "scatter_plot = plt.scatter(saved_t, saved_x)\n",
        "plt.title('X vs. Time')\n",
        "plt.xlabel('Time')\n",
        "plt.ylabel('X')\n",
        "plt.show()"
      ],
      "metadata": {
        "id": "gWgRejUaQ3s_"
      },
      "execution_count": null,
      "outputs": []
    },
    {
      "cell_type": "markdown",
      "source": [
        "**Let's Adjust the Graph to 2-D motion showing the object's location in the x and y direction over time.**\n",
        "The following code block is simply a cpy of the prior block.\n",
        "\n",
        "Adjust the code such that the new plot plots y location vs x location (remember to update the title nd axis labels)."
      ],
      "metadata": {
        "id": "vS3lIghujzw7"
      }
    },
    {
      "cell_type": "code",
      "source": [
        "scatter_plot = plt.scatter(saved_t, saved_x)\n",
        "plt.title('X vs. Time')\n",
        "plt.xlabel('Time')\n",
        "plt.ylabel('X')\n",
        "plt.show()"
      ],
      "metadata": {
        "id": "Eoi9LgY8kYgj"
      },
      "execution_count": null,
      "outputs": []
    },
    {
      "cell_type": "markdown",
      "source": [
        "**How can we calculate the slope of our x vs t function (and what should it be equal to).**\n",
        "\n",
        "In this section we will learn about indexing an array of data.\n",
        "\n",
        "The slope of the function is simply the change along the verticle axis divided by the change in the horizontal axis\n",
        "\n",
        "generally: (xfinal-xinitial)/(yfinal-yinitial)\n",
        "\n",
        "For the final and initial selection, we will just take 2 different points in each array (making sure they are in the same location in each array).  We do this by INDEXING withinthe array.\n",
        "\n",
        "In order to index we utilize the array we are interested and select which data point in the array we want by using brackets[].  Below you can see how we select the 3rd data point in the array.  **IT IS KEY TO NOTE THAT THE FIRST DATA POINT IS INDEXED BY THE NUMBER ZERO SO THE THIRD DATA POINT WILL BE INDEXED BY THE NUMBER 2**:\n",
        "\n",
        "saved_x[2] returns the third value in the saved_x array."
      ],
      "metadata": {
        "id": "7Izs7XRi70_8"
      }
    },
    {
      "cell_type": "code",
      "source": [
        "#  Let's Calculate the slope of the line using the 4th and 7th data point of the 2 arrays\n",
        "#  Note our index numbers to use are 6 and 3 instead of 7 and 4\n",
        "slope = (saved_x[6] - saved_x[3])/(saved_t[6] - saved_t[3])\n",
        "print('slope = ',slope)  # The use of ' ' allows us to add fixed text (here 'slope = ' to the print command)"
      ],
      "metadata": {
        "id": "50s7IxPM-TQ3"
      },
      "execution_count": null,
      "outputs": []
    },
    {
      "cell_type": "markdown",
      "source": [
        "You can see the slope is equal to the velocity vx fron the data initialization step **which confirms that the slope of a position v time chart equals the velocity.**"
      ],
      "metadata": {
        "id": "iDP09m3q-_R_"
      }
    },
    {
      "cell_type": "markdown",
      "source": [
        "**So Let's wrap all our program together in 1 file and see what it looks like!**"
      ],
      "metadata": {
        "id": "LYirM3YHGnit"
      }
    },
    {
      "cell_type": "code",
      "source": [
        "# Import Libraries\n",
        "import numpy as np\n",
        "import math\n",
        "import matplotlib.pyplot as plt\n",
        "import matplotlib.animation as animation\n",
        "\n",
        "# Initialize variables\n",
        "x = 0\n",
        "y = 0\n",
        "vx = 2\n",
        "vy = 1.1\n",
        "t = 0\n",
        "\n",
        "# Create the arrays to store the x and y locations from our functions\n",
        "saved_x = [x]\n",
        "saved_y = [y]\n",
        "saved_t = [t]\n",
        "\n",
        "t = 1  # Here we reset t = 1, the arrays saved_x etc already have the data point when t = 0\n",
        "\n",
        "# This while will run over and over until t is greater than 10 (from 0 - 10: 11 steps).\n",
        "while t <= 10:\n",
        "  saved_x.append(x + vx*t)\n",
        "  saved_y.append(y + vy*t)\n",
        "  saved_t.append(t)\n",
        "\n",
        "  t = t + 1\n",
        "print(saved_x)\n",
        "print(saved_y)\n",
        "print(saved_t)\n",
        "\n",
        "#Create a scatter plot of x vs. t\n",
        "scatter_plot = plt.scatter(saved_t, saved_x)\n",
        "plt.title('X vs. Time')\n",
        "plt.xlabel('Time')\n",
        "plt.ylabel('X')\n",
        "plt.show()\n",
        "\n",
        "#  Let's Calculate the slope of the line using the 4th and 7th data point of the 2 arrays\n",
        "#  Note our index numbers to use are 6 and 3 instead of 7 and 4\n",
        "slope = (saved_x[6] - saved_x[3])/(saved_t[6] - saved_t[3])\n",
        "print('slope = ',slope)  # The use of ' ' allows us to add fixed text (here 'slope = ' to the print command)"
      ],
      "metadata": {
        "id": "Ovqe-e1tGyDK"
      },
      "execution_count": null,
      "outputs": []
    }
  ]
}