{
  "nbformat": 4,
  "nbformat_minor": 0,
  "metadata": {
    "colab": {
      "provenance": [],
      "authorship_tag": "ABX9TyNtgj0gDqpjuCiNncI5QgTl",
      "include_colab_link": true
    },
    "kernelspec": {
      "name": "python3",
      "display_name": "Python 3"
    },
    "language_info": {
      "name": "python"
    }
  },
  "cells": [
    {
      "cell_type": "markdown",
      "metadata": {
        "id": "view-in-github",
        "colab_type": "text"
      },
      "source": [
        "<a href=\"https://colab.research.google.com/github/gary464/Physics-Files/blob/main/Basic_Kinematics_1.ipynb\" target=\"_parent\"><img src=\"https://colab.research.google.com/assets/colab-badge.svg\" alt=\"Open In Colab\"/></a>"
      ]
    },
    {
      "cell_type": "markdown",
      "source": [
        "# **This COLAB Notebook is an introduction to Python Programming to represent basic Kinematics**"
      ],
      "metadata": {
        "id": "iA77ZFcKXZr0"
      }
    },
    {
      "cell_type": "markdown",
      "source": [
        "**Let's Import some needed libraries**"
      ],
      "metadata": {
        "id": "BHCiKVvs5uQl"
      }
    },
    {
      "cell_type": "code",
      "execution_count": 2,
      "metadata": {
        "id": "qF0u_fDb5jOr"
      },
      "outputs": [],
      "source": [
        "import numpy as np\n",
        "import math\n",
        "import matplotlib.pyplot as plt\n",
        "import matplotlib.animation as animation"
      ]
    },
    {
      "cell_type": "markdown",
      "source": [
        "**Now we will add a simple ball moving across a 2-D surface at constant velocity.**\n",
        "\n",
        "First, we will create and initialize variables for the x and y locations, the x and y velocities and time."
      ],
      "metadata": {
        "id": "kgIDYzue526W"
      }
    },
    {
      "cell_type": "code",
      "source": [
        "x = 0\n",
        "y = 0\n",
        "vx = 2\n",
        "vy = 1.1\n",
        "t = 0"
      ],
      "metadata": {
        "id": "kvPEvS6zJlNY"
      },
      "execution_count": 3,
      "outputs": []
    },
    {
      "cell_type": "markdown",
      "source": [
        "**Now we will use a WHILE LOOP Structure to generate our x and y location data as time progresses.**\n",
        "\n",
        "We will first create new varibales which will be arrays (a set of data points).  We will use the following format for these variables: saved_x to represent our saved array of x locations.\n",
        "\n",
        "The while loop will take the initial value of t (set to 0) and run the included functions to determine the location of x and y for that t value.  It will then \"append\" the x and y locations at that t to the new saved array.  At the end, time t will de increased by the set interval (in this case 1) by the equation t = t+1.\n",
        "\n",
        "**NOTE:** all of the code inside the while loop is indented at the same level.  When you are completed with the loop, you start coding back at the un-indented level, this signifies the loop is complete.\n",
        "\n",
        "The While loop includes the standard form of the function for the location of an object travelling at constant velocity: Position = initial position + (velocity * change in time)\n",
        "\n",
        "x = x0 + vx * t\n",
        "\n",
        "The print(saved_x) command just prints the new array so you may inspect it.\n",
        "\n",
        "Try running the code again, but first comment out the t = 1 before the while loop and observe the change in output for saved_x."
      ],
      "metadata": {
        "id": "dJAo6RuGJsHu"
      }
    },
    {
      "cell_type": "code",
      "source": [
        "# Create the arrays to store the x and y locations from our functions\n",
        "saved_x = [x]\n",
        "saved_y = [y]\n",
        "saved_t = [t]\n",
        "\n",
        "t = 1  # Here we reset t = 1, the arrays saved_x etc already have the data point when t = 0\n",
        "\n",
        "# This while will run over and over until t is greater than 10 (from 0 - 10: 11 steps).\n",
        "while t <= 10:\n",
        "  saved_x.append(x + vx*t)\n",
        "  saved_y.append(y + vy*t)\n",
        "  saved_t.append(t)\n",
        "\n",
        "  t = t + 1\n",
        "print(saved_x)\n",
        "print(saved_y)\n",
        "print(saved_t)"
      ],
      "metadata": {
        "colab": {
          "base_uri": "https://localhost:8080/"
        },
        "id": "EoNXfkQRMDVg",
        "outputId": "83e12a49-e912-43f6-8273-08e0c26365f7"
      },
      "execution_count": 4,
      "outputs": [
        {
          "output_type": "stream",
          "name": "stdout",
          "text": [
            "[0, 2, 4, 6, 8, 10, 12, 14, 16, 18, 20]\n",
            "[0, 1.1, 2.2, 3.3000000000000003, 4.4, 5.5, 6.6000000000000005, 7.700000000000001, 8.8, 9.9, 11.0]\n",
            "[0, 1, 2, 3, 4, 5, 6, 7, 8, 9, 10]\n"
          ]
        }
      ]
    },
    {
      "cell_type": "markdown",
      "source": [
        "**It is now time to plot the data to visualize the results**\n",
        "\n",
        "First, let's plot just a representation of x vs. time.  We will plot our data using a scatter plot.  The coding for the scatter plot comes from the library matplot.lib.pyplot which we loaded in our initial steps.\n",
        "\n",
        "Notice How easy it is to add titles and axis labels to plots in Python."
      ],
      "metadata": {
        "id": "nL7ZE-r2UKn_"
      }
    },
    {
      "cell_type": "code",
      "source": [
        "scatter_plot = plt.scatter(saved_t, saved_x)\n",
        "plt.title('X vs. Time')\n",
        "plt.xlabel('Time')\n",
        "plt.ylabel('X')\n",
        "plt.show()"
      ],
      "metadata": {
        "colab": {
          "base_uri": "https://localhost:8080/",
          "height": 472
        },
        "id": "gWgRejUaQ3s_",
        "outputId": "0e9f5760-5be7-481c-c62f-a10c22da829c"
      },
      "execution_count": 7,
      "outputs": [
        {
          "output_type": "display_data",
          "data": {
            "text/plain": [
              "<Figure size 640x480 with 1 Axes>"
            ],
            "image/png": "[encoded data removed]"
          },
          "metadata": {}
        }
      ]
    }
  ]
}