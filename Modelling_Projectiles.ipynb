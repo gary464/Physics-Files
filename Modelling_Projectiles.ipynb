{
  "nbformat": 4,
  "nbformat_minor": 0,
  "metadata": {
    "colab": {
      "provenance": [],
      "authorship_tag": "ABX9TyNHm77L6hs/OVLKfMYv8yHX",
      "include_colab_link": true
    },
    "kernelspec": {
      "name": "python3",
      "display_name": "Python 3"
    },
    "language_info": {
      "name": "python"
    }
  },
  "cells": [
    {
      "cell_type": "markdown",
      "metadata": {
        "id": "view-in-github",
        "colab_type": "text"
      },
      "source": [
        "<a href=\"https://colab.research.google.com/github/gary464/Physics-Files/blob/main/Modelling_Projectiles.ipynb\" target=\"_parent\"><img src=\"https://colab.research.google.com/assets/colab-badge.svg\" alt=\"Open In Colab\"/></a>"
      ]
    },
    {
      "cell_type": "markdown",
      "source": [
        "**This COLAB Notebook Demonstrates how we can create a model to simulate a mathematical funcation - In this case we are modelling Projectile Motion**\n",
        "\n",
        "The notebook first utilizes the standard kinematics formulas to create a plot of a projectile (note- we re using a scatter plot so we need individual points, the plot function could also be used to pplot the basic function).\n",
        "\n",
        "THe program then goes on to model the projectile using a simplification on how the velocity changes from on time to the next across intervals.\n",
        "\n",
        "The key teaching purpose to this Notebook is to show that computer models can be set up to model functions and as the time interval decreases the error falls dramatically.\n",
        "\n",
        "While we are unlikely to create a model to simulate a simple function (as in this notebook), as we start working with more complex functions or systems of functions, computer simulations can become a more practical solution to these complex situations."
      ],
      "metadata": {
        "id": "iA77ZFcKXZr0"
      }
    },
    {
      "cell_type": "markdown",
      "source": [
        "**We're going to speed through the parts from Kinematics 1 & 2**\n",
        "\n",
        "Let's Import some needed libraries AND Initialize some variables\n",
        "\n",
        "Note:  We will now change velocity such that we will simply have v0 (initial velocity) and an angle (measured in degrees)."
      ],
      "metadata": {
        "id": "BHCiKVvs5uQl"
      }
    },
    {
      "cell_type": "code",
      "execution_count": null,
      "metadata": {
        "id": "qF0u_fDb5jOr"
      },
      "outputs": [],
      "source": [
        "import numpy as np\n",
        "import math\n",
        "import matplotlib.pyplot as plt\n",
        "\n",
        "x0 = 0\n",
        "y0 = 100\n",
        "v0 = 20\n",
        "angle = 60\n",
        "ax = 0\n",
        "ay = -9.81\n",
        "t = 0"
      ]
    },
    {
      "cell_type": "markdown",
      "source": [
        "**First let's Calculate the initial x and y velocities from the initial absolute velocity and the initial angle**\n",
        "\n",
        "The basic geometry of a launched object allows us to decompose the absolute velocity into the verticle and horizontal velocities using the the following equations:\n",
        "\n",
        "vx0 = v * cos(angle)\n",
        "\n",
        "vy0 = v * sin(angle)\n",
        "\n",
        "Numpy expects the angle to be in radians so we will first need to convert degrees to radians using the following:\n",
        "\n",
        "angle_radians = angle / 360 * 2 * np.pi"
      ],
      "metadata": {
        "id": "UKH1yvF_8Pel"
      }
    },
    {
      "cell_type": "code",
      "source": [
        "vx0 = v0 * np.cos((angle / 360) * 2 * np.pi)\n",
        "vy0 = v0 * np.sin((angle / 360) * 2 * np.pi)\n",
        "print(vx0)\n",
        "print(vy0)\n"
      ],
      "metadata": {
        "id": "M2UXOkRavzct"
      },
      "execution_count": null,
      "outputs": []
    },
    {
      "cell_type": "markdown",
      "source": [
        "\n",
        "\n",
        "```\n",
        "# This is formatted as code\n",
        "```\n",
        "\n",
        "**This WHILE LOOP Structure will generate our x and y location data as time progresses.**\n",
        "\n",
        "We will use the formula for accelerated motion in both the x an y directions"
      ],
      "metadata": {
        "id": "dJAo6RuGJsHu"
      }
    },
    {
      "cell_type": "code",
      "source": [
        "# Create the arrays to store the x and y locations from our functions\n",
        "saved_x = [x0]\n",
        "saved_y = [y0]\n",
        "saved_t = [0]\n",
        "\n",
        "t = 0  # Here we reset t = 0, the arrays saved_x etc already have the data point when t = 0\n",
        "\n",
        "# This while will run over and over until t is greater than 10 (from 0 - 10: 11 steps).\n",
        "while t <= 10:\n",
        "  saved_x.append(x0 + vx0 * t + 0.5 * ax * t ** 2)\n",
        "  saved_y.append(y0 + vy0 * t + 0.5 * ay * t ** 2)\n",
        "  saved_t.append(t)\n",
        "\n",
        "  t = t + 1"
      ],
      "metadata": {
        "id": "EoNXfkQRMDVg"
      },
      "execution_count": null,
      "outputs": []
    },
    {
      "cell_type": "markdown",
      "source": [
        "It is now time to plot the data to visualize the results\n",
        "\n",
        "First, let's plot just representations of x and y vs. time. We will plot our data using a scatter plot. The coding for the scatter plot comes from the library matplot.lib.pyplot which we loaded in our initial steps.\n",
        "\n",
        "Notice How easy it is to add titles and axis labels to plots in Python."
      ],
      "metadata": {
        "id": "J_Lvil2j5tKC"
      }
    },
    {
      "cell_type": "code",
      "source": [
        "scatter_plot = plt.scatter(saved_t, saved_x, label = 'x')\n",
        "scatter_plot = plt.scatter(saved_t, saved_y, label = 'y')\n",
        "plt.title('x And y vs. Time')\n",
        "plt.xlabel('Time')\n",
        "plt.ylabel('x and y ')\n",
        "plt.legend()\n",
        "plt.show()"
      ],
      "metadata": {
        "id": "XeDYRgQX51ss"
      },
      "execution_count": null,
      "outputs": []
    },
    {
      "cell_type": "markdown",
      "source": [
        "**Now plot y vs x so you can visualize the motion of the object in 2 dimensions**"
      ],
      "metadata": {
        "id": "fB8GrAmi57At"
      }
    },
    {
      "cell_type": "code",
      "source": [
        "scatter_plot = plt.scatter(saved_x, saved_y)\n",
        "plt.title('y vs x')\n",
        "plt.xlabel('x')\n",
        "plt.ylabel('y')\n",
        "plt.show()"
      ],
      "metadata": {
        "id": "lDuZ_JpY6FgV"
      },
      "execution_count": null,
      "outputs": []
    },
    {
      "cell_type": "markdown",
      "source": [
        "**Now let's create a model to simulate the projectile motion and compare it to the actual derivation.**"
      ],
      "metadata": {
        "id": "0ksoRaaBo0dV"
      }
    },
    {
      "cell_type": "code",
      "source": [
        "# Create the arrays to store the x and y locations from our functions\n",
        "x_sim = x0\n",
        "y_sim = y0\n",
        "t_sim = 0\n",
        "\n",
        "# we will continue to use the same velocity and acceleration as our prior calcuation\n",
        "\n",
        "saved_x_sim = [x0]\n",
        "saved_y_sim = [y0]\n",
        "saved_t_sim = [0]\n",
        "\n",
        "t = 0 # Here we reset t = 0\n",
        "\n",
        "#We create a time interval (dt) for calculating the change in location during each pass of the loop\n",
        "\n",
        "dt = 1\n",
        "\n",
        "#Reset all variables to initial values\n",
        "x = x0\n",
        "y = y0\n",
        "vx = vx0\n",
        "vy = vy0\n",
        "\n",
        "t = 1  # set t = 1 since we already our data in the saved array when t = 0\n",
        "#This while will run over and over until t is greater than 10 (from 0 - 10: 11 steps).\n",
        "while t <= 10:\n",
        "\n",
        "# during each time interval, the object will move at the velocity it has at the beginning of that interval.\n",
        "\n",
        "# First we need to adjust the velocity\n",
        "  vy = vy + ay * dt\n",
        "  x = x + vx * dt\n",
        "  y = y + vy * dt\n",
        "\n",
        "  saved_x_sim.append(x)\n",
        "  saved_y_sim.append(y)\n",
        "  saved_t_sim.append(t)\n",
        "\n",
        "\n",
        "  t = t + dt\n"
      ],
      "metadata": {
        "id": "SuNESQO9pB8M"
      },
      "execution_count": null,
      "outputs": []
    },
    {
      "cell_type": "markdown",
      "source": [
        "**Plot both the mathematical sulotion and the model togerther to compare the results**\n",
        "\n"
      ],
      "metadata": {
        "id": "nL7ZE-r2UKn_"
      }
    },
    {
      "cell_type": "code",
      "source": [
        "scatter_plot = plt.scatter(saved_x_sim, saved_y_sim, label = 'Model')\n",
        "scatter_plot = plt.scatter(saved_x, saved_y, label = \"Math\")\n",
        "plt.title('y vs. x')\n",
        "plt.xlabel('x')\n",
        "plt.ylabel('y')\n",
        "plt.legend()\n",
        "plt.show()"
      ],
      "metadata": {
        "id": "gWgRejUaQ3s_"
      },
      "execution_count": null,
      "outputs": []
    },
    {
      "cell_type": "markdown",
      "source": [
        "**Now plot y vs x so you can visualize the motion of the object in 2 dimensions"
      ],
      "metadata": {
        "id": "aWsLYcnp2De0"
      }
    },
    {
      "cell_type": "code",
      "source": [
        "scatter_plot = plt.scatter(saved_x, saved_y)\n",
        "plt.title('y vs x')\n",
        "plt.xlabel('x')\n",
        "plt.ylabel('y')\n",
        "plt.show()"
      ],
      "metadata": {
        "id": "Eoi9LgY8kYgj"
      },
      "execution_count": null,
      "outputs": []
    }
  ]
}