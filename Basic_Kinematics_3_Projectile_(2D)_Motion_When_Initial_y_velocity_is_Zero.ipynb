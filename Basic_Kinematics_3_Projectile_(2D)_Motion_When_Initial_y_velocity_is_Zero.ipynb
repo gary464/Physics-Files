{
  "nbformat": 4,
  "nbformat_minor": 0,
  "metadata": {
    "colab": {
      "provenance": [],
      "authorship_tag": "ABX9TyOY4L6ctWd6HJHXJoa7/8B8",
      "include_colab_link": true
    },
    "kernelspec": {
      "name": "python3",
      "display_name": "Python 3"
    },
    "language_info": {
      "name": "python"
    }
  },
  "cells": [
    {
      "cell_type": "markdown",
      "metadata": {
        "id": "view-in-github",
        "colab_type": "text"
      },
      "source": [
        "<a href=\"https://colab.research.google.com/github/gary464/Physics-Files/blob/main/Basic_Kinematics_3_Projectile_(2D)_Motion_When_Initial_y_velocity_is_Zero.ipynb\" target=\"_parent\"><img src=\"https://colab.research.google.com/assets/colab-badge.svg\" alt=\"Open In Colab\"/></a>"
      ]
    },
    {
      "cell_type": "markdown",
      "source": [
        "# **This COLAB Notebook is an introduction to Python Programming to represent basic Kinematics 3 - Projectile Motion When Initial y-velocity is 0**"
      ],
      "metadata": {
        "id": "iA77ZFcKXZr0"
      }
    },
    {
      "cell_type": "markdown",
      "source": [
        "**We're going to speed through the parts from Kinematics 1 & 2**\n",
        "\n",
        "Let's Import some needed libraries AND Initialize some variables\n",
        "\n",
        "Note:  We are bringing back the y variables"
      ],
      "metadata": {
        "id": "BHCiKVvs5uQl"
      }
    },
    {
      "cell_type": "code",
      "execution_count": null,
      "metadata": {
        "id": "qF0u_fDb5jOr"
      },
      "outputs": [],
      "source": [
        "import numpy as np\n",
        "import math\n",
        "import matplotlib.pyplot as plt\n",
        "\n",
        "x0 = 0\n",
        "y0 = 100\n",
        "vx0 = 4\n",
        "vy0 = 0\n",
        "ax = 0\n",
        "ay = -2\n",
        "t = 0"
      ]
    },
    {
      "cell_type": "markdown",
      "source": [
        "**We again use a WHILE LOOP Structure to generate our x and y location data as time progresses.**\n",
        "\n",
        "We will use the formula for accelerated motion in both the x an y directions"
      ],
      "metadata": {
        "id": "dJAo6RuGJsHu"
      }
    },
    {
      "cell_type": "code",
      "source": [
        "# Create the arrays to store the x and y locations from our functions\n",
        "saved_x = []\n",
        "saved_y = []\n",
        "saved_t = []\n",
        "\n",
        "t = 0  # Here we reset t = 0, the arrays saved_x etc already have the data point when t = 0\n",
        "\n",
        "# This while will run over and over until t is greater than 10 (from 0 - 10: 11 steps).\n",
        "while t <= 10:\n",
        "  saved_x.append(x0 + vx0 * t + 0.5 * ax * t ** 2)\n",
        "  saved_y.append(y0 + vy0 * t + 0.5 * ay * t ** 2)\n",
        "  saved_t.append(t)\n",
        "\n",
        "  t = t + 1"
      ],
      "metadata": {
        "id": "EoNXfkQRMDVg"
      },
      "execution_count": null,
      "outputs": []
    },
    {
      "cell_type": "markdown",
      "source": [
        "**It is now time to plot the data to visualize the results**\n",
        "\n",
        "First, let's plot just a representation of x vs. time.  We will plot our data using a scatter plot.  The coding for the scatter plot comes from the library matplot.lib.pyplot which we loaded in our initial steps.\n",
        "\n",
        "Notice How easy it is to add titles and axis labels to plots in Python."
      ],
      "metadata": {
        "id": "nL7ZE-r2UKn_"
      }
    },
    {
      "cell_type": "code",
      "source": [
        "scatter_plot = plt.scatter(saved_t, saved_x, label = \"x\")\n",
        "scatter_plot = plt.scatter(saved_t, saved_y, label = \"y\")\n",
        "\n",
        "plt.title('x  and y vs. Time')\n",
        "plt.xlabel('Time')\n",
        "plt.ylabel('x and y')\n",
        "plt.legend()\n",
        "plt.show()"
      ],
      "metadata": {
        "id": "gWgRejUaQ3s_"
      },
      "execution_count": null,
      "outputs": []
    },
    {
      "cell_type": "markdown",
      "source": [
        "**Now plot y vs x so you can visualize the motion of the object in 2 dimensions**\n"
      ],
      "metadata": {
        "id": "vS3lIghujzw7"
      }
    },
    {
      "cell_type": "code",
      "source": [
        "scatter_plot = plt.scatter(saved_x, saved_y)\n",
        "plt.title('y vs x')\n",
        "plt.xlabel('x')\n",
        "plt.ylabel('y')\n",
        "plt.show()"
      ],
      "metadata": {
        "id": "Eoi9LgY8kYgj"
      },
      "execution_count": null,
      "outputs": []
    }
  ]
}