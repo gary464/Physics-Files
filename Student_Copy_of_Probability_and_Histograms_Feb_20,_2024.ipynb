{
  "cells": [
    {
      "cell_type": "markdown",
      "metadata": {
        "id": "view-in-github",
        "colab_type": "text"
      },
      "source": [
        "<a href=\"https://colab.research.google.com/github/gary464/Physics-Files/blob/main/Student_Copy_of_Probability_and_Histograms_Feb_20%2C_2024.ipynb\" target=\"_parent\"><img src=\"https://colab.research.google.com/assets/colab-badge.svg\" alt=\"Open In Colab\"/></a>"
      ]
    },
    {
      "cell_type": "markdown",
      "metadata": {
        "id": "52f2j4_f1dFr"
      },
      "source": [
        "# Step 1\n",
        "Flip a coin 10 times, record the number of heads, then make a histogram (or bar chart) showing the number of heads and tails.\n",
        "- Write out what a set of data might look like.  \n",
        "- Sketch a histogram of what that data might look like.\n",
        "- Write a list of steps a computer program might need to perform to simulate the investigation. This is called 'pseudocode'.   \n",
        "\n",
        "# Step 2\n",
        "Run the code below. Try editing it to more closely match the activity described in step 1 except with a change of collecting 80 data points instead of 10.\n",
        "\n",
        "# Step 3\n",
        "How does your pseudocode compare with the Python code?"
      ]
    },
    {
      "cell_type": "code",
      "execution_count": null,
      "metadata": {
        "id": "hsGWCS1A0zq7"
      },
      "outputs": [],
      "source": [
        "# imports some software packages we'll use\n",
        "import numpy as np\n",
        "import matplotlib.pyplot as plt\n",
        "import seaborn as sns\n"
      ]
    },
    {
      "cell_type": "markdown",
      "source": [
        "Let's Enter our class coin data.  Each sudent will flip a coin 20 time and count the total number of times the coin comes up heads.  We will then enter the data into an array and have the system plot a histogram."
      ],
      "metadata": {
        "id": "v27qPsO36wwj"
      }
    },
    {
      "cell_type": "code",
      "source": [
        "flips = (11,14,6,12,10, 11,10,10,12,4,17,15,10,11,12,9,10,9,11,10,9,12,10)\n",
        "print(flips)\n",
        "sns.histplot(flips, discrete = True)"
      ],
      "metadata": {
        "id": "tvldPxKs7Emr"
      },
      "execution_count": null,
      "outputs": []
    },
    {
      "cell_type": "markdown",
      "metadata": {
        "id": "kVbi8iHyRGB8"
      },
      "source": [
        "We're going to use a function called randint. It may work a little differently than it appears. You can read about how it works at : https://numpy.org/doc/stable/reference/random/generated/numpy.random.randint.html"
      ]
    },
    {
      "cell_type": "code",
      "execution_count": null,
      "metadata": {
        "id": "pNym1yzm8ZX_"
      },
      "outputs": [],
      "source": [
        "# Does this model random coin flips? What could you do to improve the model to complete Step 2?\n",
        "flips = np.random.randint(2, size=25)\n",
        "print(flips)\n"
      ]
    },
    {
      "cell_type": "code",
      "execution_count": null,
      "metadata": {
        "id": "iUTCIChc-5e_"
      },
      "outputs": [],
      "source": [
        "# create a histogram\n",
        "\n",
        "sns.histplot(flips, discrete = True)\n"
      ]
    },
    {
      "cell_type": "markdown",
      "metadata": {
        "id": "iaucazoPNHp3"
      },
      "source": [
        "# Step 4: Main Task\n",
        "Now that you know how to generate random numbers and create histograms, use these new skills to simulate the behavior of ***dice***.\n",
        "\n",
        "Model what will happen if a person throws a pair of dice many times by copying your code from above into the cell below and edit as needed."
      ]
    },
    {
      "cell_type": "markdown",
      "source": [
        "First Let's actually create sum histograms  by actually rolling a pair of dice 20 times."
      ],
      "metadata": {
        "id": "XyMgnLoHQNhj"
      }
    },
    {
      "cell_type": "code",
      "source": [
        "fig, axes = plt.subplots(3, 4, figsize=(10,5))   # creates a 2x2 set of plots\n",
        "fig.subplots_adjust(hspace=.5)                 # sets the space between rows of plots\n",
        "\n",
        "rolls_1 = (12,4,5,6,7,7,6,8,4,7,3,9,2,7,5,9,11,10,9,5)\n",
        "sns.histplot(rolls_1, ax=axes[0,0], discrete = True)\n",
        "\n",
        "rolls_2 = (12,4,5,6,7,7,6,8,4,7,3,9,2,7,5,9,11,10,9,5)\n",
        "sns.histplot(rolls_2, ax=axes[0,1], discrete = True)\n",
        "\n",
        "rolls_3 = (12,4,5,6,7,7,6,8,4,7,3,9,2,7,5,9,11,10,9,5)\n",
        "sns.histplot(rolls_3, ax=axes[0,2], discrete = True)\n",
        "\n",
        "rolls_4 = (12,4,5,6,7,7,6,8,4,7,3,9,2,7,5,9,11,10,9,5)\n",
        "sns.histplot(rolls_2, ax=axes[0,3], discrete = True)\n",
        "\n",
        "rolls_5 = (12,4,5,6,7,7,6,8,4,7,3,9,2,7,5,9,11,10,9,5)\n",
        "sns.histplot(rolls_5, ax=axes[1,0], discrete = True)\n",
        "\n",
        "rolls_6 = (12,4,5,6,7,7,6,8,4,7,3,9,2,7,5,9,11,10,9,5)\n",
        "sns.histplot(rolls_6, ax=axes[1,1], discrete = True)\n",
        "\n",
        "rolls_7 = (12,4,5,6,7,7,6,8,4,7,3,9,2,7,5,9,11,10,9,5)\n",
        "sns.histplot(rolls_7, ax=axes[1,2], discrete = True)\n",
        "\n",
        "rolls_8 = (12,4,5,6,7,7,6,8,4,7,3,9,2,7,5,9,11,10,9,5)\n",
        "sns.histplot(rolls_8, ax=axes[1,3], discrete = True)\n",
        "\n",
        "rolls_9 = (12,4,5,6,7,7,6,8,4,7,3,9,2,7,5,9,11,10,9,5)\n",
        "sns.histplot(rolls_9, ax=axes[2,0], discrete = True)\n",
        "\n",
        "rolls_10 = (12,4,5,6,7,7,6,8,4,7,3,9,2,7,5,9,11,10,9,5)\n",
        "sns.histplot(rolls_10, ax=axes[2,1], discrete = True)\n",
        "\n",
        "rolls_11 = (12,4,5,6,7,7,6,8,4,7,3,9,2,7,5,9,11,10,9,5)\n",
        "sns.histplot(rolls_11, ax=axes[2,2], discrete = True)\n",
        "\n",
        "rolls_12 = (12,4,5,6,7,7,6,8,4,7,3,9,2,7,5,9,11,10,9,5)\n",
        "sns.histplot(rolls_12, ax=axes[2,3], discrete = True)"
      ],
      "metadata": {
        "id": "TztoPk8kQZq1"
      },
      "execution_count": null,
      "outputs": []
    },
    {
      "cell_type": "code",
      "execution_count": null,
      "metadata": {
        "id": "wb-CjyqhAZK-"
      },
      "outputs": [],
      "source": [
        "# Use this block to write your new code for the dice.\n",
        "# Create two randomly generated arrays for the roll of 2 dice\n",
        "\n",
        "\n",
        "\n",
        "# Create a variable for the sum of the 2 dice and print the array\n",
        "\n",
        "\n",
        "\n",
        "# Plot a histogram of the data\n",
        "\n",
        "\n"
      ]
    },
    {
      "cell_type": "markdown",
      "source": [
        "Suppose we use the above code to model 12 runs"
      ],
      "metadata": {
        "id": "Y1_1xtoQreE2"
      }
    },
    {
      "cell_type": "code",
      "source": [
        "fig, axes = plt.subplots(3, 4, figsize=(10,5))   # creates a 2x2 set of plots\n",
        "fig.subplots_adjust(hspace=.5)                 # sets the space between rows of plots\n",
        "\n",
        "rolls_1 = np.random.randint(6, size = 2000000) +1\n",
        "rolls_2 = np.random.randint(6, size = 2000000) +1\n",
        "sumrolls_1 = rolls_1 + rolls_2\n",
        "sns.histplot(sumrolls_1, ax=axes[0,0], discrete = True)\n",
        "\n",
        "rolls_1 = np.random.randint(6, size = 200000) +1\n",
        "rolls_2 = np.random.randint(6, size = 200000) +1\n",
        "sumrolls_2 = rolls_1 + rolls_2\n",
        "sns.histplot(sumrolls_2, ax=axes[0,1], discrete = True)\n",
        "\n",
        "rolls_1 = np.random.randint(6, size = 20000) +1\n",
        "rolls_2 = np.random.randint(6, size = 20000) +1\n",
        "sumrolls_3 = rolls_1 + rolls_2\n",
        "sns.histplot(sumrolls_3, ax=axes[0,2], discrete = True)\n",
        "\n",
        "rolls_1 = np.random.randint(6, size = 2000) +1\n",
        "rolls_2 = np.random.randint(6, size = 2000) +1\n",
        "sumrolls_4 = rolls_1 + rolls_2\n",
        "sns.histplot(sumrolls_4, ax=axes[0,3], discrete = True)\n",
        "\n",
        "rolls_1 = np.random.randint(6, size = 200) +1\n",
        "rolls_2 = np.random.randint(6, size = 200) +1\n",
        "sumrolls_5 = rolls_1 + rolls_2\n",
        "sns.histplot(sumrolls_5, ax=axes[1,0], discrete = True)\n",
        "\n",
        "rolls_1 = np.random.randint(6, size = 200) +1\n",
        "rolls_2 = np.random.randint(6, size = 200) +1\n",
        "sumrolls_6 = rolls_1 + rolls_2\n",
        "\n",
        "sns.histplot(sumrolls_6, ax=axes[1,1], discrete = True)\n",
        "\n",
        "rolls_1 = np.random.randint(6, size = 20) +1\n",
        "rolls_2 = np.random.randint(6, size = 20) +1\n",
        "sumrolls_7 = rolls_1 + rolls_2\n",
        "\n",
        "sns.histplot(sumrolls_7, ax=axes[1,2], discrete = True)\n"
      ],
      "metadata": {
        "id": "hLAgYEsgqSDH"
      },
      "execution_count": null,
      "outputs": []
    },
    {
      "cell_type": "markdown",
      "metadata": {
        "id": "34eidC8L3g5Q"
      },
      "source": [
        "# Step 5: Coin Flip Extension Tasks\n",
        " - How would you look at flipping a coin 10 times for 8 trials and how would you create a histogram for the number of heads in each trial? Would this look any different from the 80 total coin flips?\n",
        "\n"
      ]
    },
    {
      "cell_type": "code",
      "execution_count": null,
      "metadata": {
        "id": "NGoh8Wrt4NN7"
      },
      "outputs": [],
      "source": [
        "#Hint1 for Coin Flip Extension Tasks\n",
        "\n",
        "flips1 = np.random.randint(2, size=10)\n",
        "flips2 = np.random.randint(2, size=10)\n",
        "flips3 = np.random.randint(2, size=10)\n",
        "flips1, flips2, flips3\n"
      ]
    },
    {
      "cell_type": "code",
      "execution_count": null,
      "metadata": {
        "id": "vUXBjbGM4e0S"
      },
      "outputs": [],
      "source": [
        "#Hint2 for Coin Flip Extension Tasks\n",
        "count_flips1 = np.bincount(flips1)  # this creates an array of [number of tails (0s), number of heads (1s)]\n",
        "print('Total occurences of \"1\" in trial 1: ', count_flips1[1])  # this counts the number of heads (1s)\n",
        "\n",
        "count_flips2 = np.bincount(flips2)\n",
        "print('Total occurences of \"1\" in trial 2: ', count_flips2[1])\n",
        "\n",
        "a = [count_flips1[1], count_flips2[1]]  # this creates an array of the total number of heads in each trial\n",
        "print (a)"
      ]
    },
    {
      "cell_type": "markdown",
      "metadata": {
        "id": "z_B7KCSh_ZWd"
      },
      "source": [
        "# Step 6: Dice Extension Tasks  \n",
        "Try modifying your code for these new scenarios:  \n",
        "- What happens to the shape of the histogram if you increase the number of throws to a very large number (perhaps one million throws)?\n",
        "- Rather than a pair of 6-sided dice (d6), instead simulate rolling a pair of **10-sided** (d10) dice!\n",
        "- How does the appearance of the histogram change if a person rolls **three** dice at once rather than two? What about **four** dice?\n",
        "- Pretend that one of the dice is damaged, and produces the number 5 slightly more often than the other numbers. How will the histogram shape change?"
      ]
    },
    {
      "cell_type": "code",
      "execution_count": null,
      "metadata": {
        "id": "YIXQ8ghfAkY3"
      },
      "outputs": [],
      "source": [
        "# Use this block for the step 6 extension tasks."
      ]
    },
    {
      "cell_type": "markdown",
      "metadata": {
        "id": "ilsA4ZxmPibN"
      },
      "source": [
        "---  \n",
        "## Saving Your Work  \n",
        "This is running on a Google server on a distant planet and deletes what you've done when you close this tab. To save your work for later use or analysis you have a few options:  \n",
        "- File > \"Save a copy in Drive\" will save it to you Google Drive in a folder called \"Colaboratory\". You can run it later from there.  \n",
        "- File > \"Download .ipynb\" to save to your computer (and run with Jupyter software later)  \n",
        "- File > Print to ... um ... print or save as a pdf.  \n",
        "- To save an image of a graph or chart, right-click on it and select Save Image as ...  \n",
        "\n",
        "## Credits\n",
        "This notebook was designed by [Quarknet](https://quarknet.org/) Teacher Fellows Joy Scales, Chris DiMenna, and Jodi Hansen, Tiffany Coke, Gerry Gagnon, Peter Apps, Jeremy Smith, and Adam LaMee. Thanks to the great folks at [Binder](https://mybinder.org/) and [Google Colaboratory](https://colab.research.google.com/notebooks/intro.ipynb) for making this notebook interactive without you needing to download it or install [Jupyter](https://jupyter.org/) on your own device.  "
      ]
    }
  ],
  "metadata": {
    "colab": {
      "provenance": [],
      "include_colab_link": true
    },
    "kernelspec": {
      "display_name": "Python 3",
      "language": "python",
      "name": "python3"
    },
    "language_info": {
      "codemirror_mode": {
        "name": "ipython",
        "version": 3
      },
      "file_extension": ".py",
      "mimetype": "text/x-python",
      "name": "python",
      "nbconvert_exporter": "python",
      "pygments_lexer": "ipython3",
      "version": "3.7.7"
    }
  },
  "nbformat": 4,
  "nbformat_minor": 0
}