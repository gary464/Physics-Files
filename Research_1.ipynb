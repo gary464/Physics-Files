{
  "nbformat": 4,
  "nbformat_minor": 0,
  "metadata": {
    "colab": {
      "provenance": [],
      "authorship_tag": "ABX9TyO5S8PfVY3rrKpT49dozh/y",
      "include_colab_link": true
    },
    "kernelspec": {
      "name": "python3",
      "display_name": "Python 3"
    },
    "language_info": {
      "name": "python"
    }
  },
  "cells": [
    {
      "cell_type": "markdown",
      "metadata": {
        "id": "view-in-github",
        "colab_type": "text"
      },
      "source": [
        "<a href=\"https://colab.research.google.com/github/gary464/Physics-Files/blob/main/Research_1.ipynb\" target=\"_parent\"><img src=\"https://colab.research.google.com/assets/colab-badge.svg\" alt=\"Open In Colab\"/></a>"
      ]
    },
    {
      "cell_type": "code",
      "execution_count": null,
      "metadata": {
        "id": "I5jXV_4UnMCr"
      },
      "outputs": [],
      "source": [
        "g(t) = cos(pi * t / 25);\n",
        "u_x(x,y,t) = -sin(pi * y) * g(t)\n",
        "u_y(x,y,t) =  sin(pi * x) * g(t)\n",
        "N = 1000\n",
        "# x = 0.05 .+ .45 * rand(N)\n",
        "# y = 0.05 .+ .45 * rand(N)\n",
        "# x = 0.05 .+ rand(N)\n",
        "# y = 0.05 .+ rand(N)\n",
        "x = 0.5 * randn(N)\n",
        "y = 0.5 * randn(N)\n",
        "dt = .005\n",
        "# adjust the time-step size\n",
        "FinalTime = 50\n",
        "Nsteps = ceil(Int, FinalTime / dt)\n",
        "dt = FinalTime / Nsteps\n",
        "du_x, du_y = similar(x), similar(y)\n",
        "x_save, y_save = [copy(x)], [copy(y)]\n",
        "t_save = typeof(dt)[0.0]\n",
        "for i in 1:Nsteps\n",
        "    t = (i-1) * dt\n",
        "    @. du_x = u_x(x, y, t)\n",
        "    @. du_y = u_y(x, y, t)\n",
        "    @. x += dt * du_x\n",
        "    @. y += dt * du_y\n",
        "    if i % 500 == 0 || i == Nsteps\n",
        "        push!(x_save, copy(x))\n",
        "        push!(y_save, copy(y))\n",
        "        push!(t_save, t + dt)\n",
        "        # println(\"On timestep $i out of $Nsteps\")\n",
        "    end\n",
        "end\n",
        "using LinearAlgebra\n",
        "relative_error =\n",
        "    sqrt(norm(x_save[1]-x_save[end])^2 + norm(y_save[1]-y_save[end])^2) / sqrt(norm(x)^2 + norm(y)^2)\n",
        "println(\"dt = $dt, error = $(relative_error)\")\n",
        "# using Plots\n",
        "# scatter(x, y, msw = 0, label=\"Final particle positions\",\n",
        "#         xlims=(-1, 1), ylims=(-1, 1))\n",
        "# scatter!(x_save[1], y_save[1], msw = 0, label=\"Initial particle positions\",\n",
        "#         xlims=(-1, 1), ylims=(-1, 1))\n",
        "# plot!(showaxis=false, ratio=1)\n",
        "# title!(\"Timestep size = $dt\")\n",
        "# x1D = LinRange(-1, 1, 10)\n",
        "# xx = vec(@. x1D + 0 * x1D')\n",
        "# yy = vec(@. 0 * x1D + x1D')\n",
        "# @gif for i in eachindex(x_save, y_save)\n",
        "#     t = t_save[i]\n",
        "#     x, y = x_save[i], y_save[i]\n",
        "#     scatter(x, y, msw = 0,\n",
        "#             legend=false, xlims=(-1, 1), ylims=(-1, 1))\n",
        "#     quiver!(xx, yy, quiver=0.2 .* (u_x.(xx, yy, t), u_y.(xx, yy, t)),\n",
        "#             arrow=arrow(:closed))\n",
        "#     title!(\"Time = $t\")\n",
        "# end\n"
      ]
    },
    {
      "cell_type": "code",
      "source": [
        "import numpy as np\n",
        "\n",
        "def g(t):\n",
        "  g_t = cos(pi * t / 25)\n",
        "def u_x(x,y,t):\n",
        "  u_x = -sin(pi * y) * g_t\n",
        "def u_y(x,y,t):\n",
        "  u_y =  sin(pi * x) * g_t\n",
        "N = 1000\n",
        "import random\n",
        "# x = 0.05 .+ .45 * random.random()*N\n",
        "# y = 0.05 .+ .45 * random.random()*N\n",
        "# x = 0.05 .+ random.random()*N\n",
        "# y = 0.05 .+ random.random()*N\n",
        "x = 0.5 * random.random() * N\n",
        "y = 0.5 * random.random() * N\n",
        "dt = .05\n",
        "# adjust the time-step size\n",
        "FinalTime = 50\n",
        "Nsteps = np.ceil(FinalTime / dt)\n",
        "dt = FinalTime / Nsteps"
      ],
      "metadata": {
        "id": "CHAbgZNpnZCZ"
      },
      "execution_count": null,
      "outputs": []
    }
  ]
}